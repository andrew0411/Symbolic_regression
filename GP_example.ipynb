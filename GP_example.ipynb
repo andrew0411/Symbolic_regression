{
 "cells": [
  {
   "cell_type": "code",
   "execution_count": 7,
   "id": "615c655e",
   "metadata": {},
   "outputs": [
    {
     "name": "stdout",
     "output_type": "stream",
     "text": [
      "Populating the interactive namespace from numpy and matplotlib\n"
     ]
    }
   ],
   "source": [
    "%pylab inline\n",
    "from gp.genetics import SymbolicRegressor\n",
    "from sklearn.utils.random import check_random_state\n",
    "import matplotlib.pyplot as plt\n",
    "import numpy as np\n",
    "import pandas as pd\n",
    "from sklearn.preprocessing import StandardScaler\n",
    "from sklearn.model_selection import train_test_split"
   ]
  },
  {
   "cell_type": "code",
   "execution_count": 8,
   "metadata": {},
   "outputs": [],
   "source": [
    "df = pd.read_csv('dataset/high.csv')\n",
    "df.set_index('Material', inplace=True)\n",
    "y = df.pop('Heat of formation')\n",
    "X = df\n",
    "x_tr, x_ts, y_tr, y_ts = train_test_split(X, y, test_size=0.2, random_state=42)\n",
    "\n",
    "sc = StandardScaler()\n",
    "x_tr = sc.fit_transform(x_tr)\n",
    "x_ts = sc.fit_transform(x_ts)"
   ]
  },
  {
   "cell_type": "code",
   "execution_count": 9,
   "metadata": {},
   "outputs": [
    {
     "name": "stdout",
     "output_type": "stream",
     "text": [
      "1092 1092\n",
      "1092 85\n"
     ]
    }
   ],
   "source": [
    "print(len(x_tr), len(y_tr))\n",
    "n_sample, n_feature = x_tr.shape\n",
    "print(n_sample, n_feature)"
   ]
  },
  {
   "cell_type": "code",
   "execution_count": 11,
   "metadata": {},
   "outputs": [
    {
     "name": "stdout",
     "output_type": "stream",
     "text": [
      "    |   Population Average    |             Best Individual              |\n",
      "---- ------------------------- ------------------------------------------ ----------\n",
      " Gen   Length          Fitness   Length          Fitness      OOB Fitness  Time Left\n",
      "   0    25.43          5146.19        3         0.467756         0.450665     53.42s\n",
      "   1     3.51          1.50625        3         0.455547         0.559657     38.81s\n",
      "   2     3.15           1.4176        3          0.45042         0.605428     37.63s\n",
      "   3     2.91         0.996109        3         0.448346         0.623941     34.52s\n",
      "   4     3.26          73.3247        3         0.444151         0.661393     31.85s\n",
      "   5     3.16          0.96215        5         0.441367          0.40033     30.19s\n",
      "   6     3.20          0.96353        5         0.431917          0.48469     27.62s\n",
      "   7     3.20          6.77462        5          0.43127         0.490467     25.51s\n",
      "   8     3.22          1.13984        5         0.430558         0.496826     24.00s\n",
      "   9     3.22          1.20989        5         0.427268          0.52619     21.34s\n",
      "  10     3.47          1.40105        5         0.427461         0.524474     19.35s\n",
      "  11     4.04          2.51449        5         0.419455         0.411963     17.96s\n",
      "  12     4.85           1.2874        5         0.412753          0.47179     15.67s\n",
      "  13     5.05          1.07643        5           0.4062         0.530286     13.54s\n",
      "  14     5.08          1.00026        5         0.405019         0.540832     11.55s\n",
      "  15     5.17          26.2981        5         0.401622         0.571159      9.03s\n",
      "  16     5.00           1.0474        5         0.400887         0.577719      6.75s\n",
      "  17     5.14          1.81155        5         0.401962         0.568121      4.63s\n",
      "  18     5.04          4.83797        5         0.402636          0.56211      2.27s\n",
      "  19     5.19          2.31994        5         0.401254         0.574448      0.00s\n"
     ]
    },
    {
     "data": {
      "text/plain": [
       "SymbolicRegressor(max_samples=0.9, p_crossover=0.7, p_hoist_mutation=0.05,\n",
       "                  p_point_mutation=0.1, p_subtree_mutation=0.1,\n",
       "                  parsimony_coefficient=0.01, population_size=5000,\n",
       "                  random_state=42, stopping_criteria=0.01, verbose=1)"
      ]
     },
     "execution_count": 11,
     "metadata": {},
     "output_type": "execute_result"
    }
   ],
   "source": [
    "gp = SymbolicRegressor(population_size=5000, generations=20, stopping_criteria=0.01,\n",
    "                       p_crossover=0.7, p_subtree_mutation=0.1, p_hoist_mutation=0.05,\n",
    "                       p_point_mutation=0.1, max_samples=0.9, verbose=1,\n",
    "                       parsimony_coefficient=0.01, random_state=42     \n",
    "                        )\n",
    "gp.fit(x_tr, y_tr)"
   ]
  },
  {
   "cell_type": "code",
   "execution_count": 12,
   "metadata": {},
   "outputs": [
    {
     "name": "stdout",
     "output_type": "stream",
     "text": [
      "mul(mul(X8, -0.685), X8)\n"
     ]
    }
   ],
   "source": [
    "print(gp._program)"
   ]
  },
  {
   "cell_type": "code",
   "execution_count": 35,
   "metadata": {},
   "outputs": [
    {
     "name": "stdout",
     "output_type": "stream",
     "text": [
      "    |   Population Average    |             Best Individual              |\n",
      "---- ------------------------- ------------------------------------------ ----------\n",
      " Gen   Length          Fitness   Length          Fitness      OOB Fitness  Time Left\n",
      "   0   221.78       2.8386e+18        3         0.683159         0.602846      3.79m\n",
      "   1     3.57          691.824        3         0.642922         0.916382     46.03s\n",
      "   2     3.41          5.84126        3         0.594911         0.669017     47.18s\n",
      "   3     2.79          168.603        3         0.595149         0.667121     43.49s\n",
      "   4     1.66           4482.1        3         0.591169         0.697996     38.24s\n",
      "   5     2.23          76.9772        3         0.585307         0.740786     35.43s\n",
      "   6     3.30          6.58109        3         0.582184         0.762444     35.24s\n",
      "   7     3.33          83.7065        3         0.582691         0.758974     29.96s\n",
      "   8     3.49          122.771        3         0.576934         0.797271     28.82s\n",
      "   9     3.31          42.8521        3         0.581429         0.767565     25.57s\n",
      "  10     3.29           10.042        3         0.582138         0.762757     23.83s\n",
      "  11     4.20      5.39274e+11        3         0.581033         0.770239     21.87s\n",
      "  12     3.23          8.96763        3         0.577436         0.794022     17.93s\n",
      "  13     3.36          42.0462        3         0.581565         0.766649     15.18s\n",
      "  14     3.27          3.59821        3         0.580468         0.774032     13.14s\n",
      "  15     3.27          79.6918        3         0.580802         0.771791     10.74s\n",
      "  16     3.28           111201        3         0.582396         0.760996      7.70s\n",
      "  17     3.30          8.92984        3         0.578588         0.786498      5.06s\n",
      "  18     3.28          4125.34        3         0.583053         0.756488      2.69s\n",
      "  19     3.67          5603.66        3         0.582497         0.760307      0.00s\n"
     ]
    },
    {
     "data": {
      "text/plain": [
       "SymbolicRegressor(init_depth=(2, 10), max_samples=0.9, metric='rmse',\n",
       "                  p_crossover=0.7, p_hoist_mutation=0.05, p_point_mutation=0.1,\n",
       "                  p_subtree_mutation=0.1, parsimony_coefficient=0.01,\n",
       "                  population_size=5000, random_state=42, stopping_criteria=0.01,\n",
       "                  verbose=1)"
      ]
     },
     "execution_count": 35,
     "metadata": {},
     "output_type": "execute_result"
    }
   ],
   "source": [
    "init_depth = (2, 10)\n",
    "gp = SymbolicRegressor(population_size=5000, generations=20, stopping_criteria=0.01, init_depth=init_depth,\n",
    "                       p_crossover=0.7, p_subtree_mutation=0.1, p_hoist_mutation=0.05,\n",
    "                       p_point_mutation=0.1, max_samples=0.9, verbose=1, metric='rmse',\n",
    "                       parsimony_coefficient=0.01, random_state=42     \n",
    "                        )\n",
    "gp.fit(x_tr, y_tr)"
   ]
  },
  {
   "cell_type": "code",
   "execution_count": 15,
   "metadata": {},
   "outputs": [
    {
     "name": "stdout",
     "output_type": "stream",
     "text": [
      "mul(X52, X51)\n"
     ]
    }
   ],
   "source": [
    "# Best program after final generation\n",
    "print(gp._program)"
   ]
  },
  {
   "cell_type": "code",
   "execution_count": 16,
   "metadata": {},
   "outputs": [
    {
     "data": {
      "text/plain": [
       "0.5824967699992059"
      ]
     },
     "execution_count": 16,
     "metadata": {},
     "output_type": "execute_result"
    }
   ],
   "source": [
    "# Best program's fitness result on training dataset\n",
    "gp._program.raw_fitness_"
   ]
  },
  {
   "cell_type": "code",
   "execution_count": 17,
   "metadata": {},
   "outputs": [
    {
     "data": {
      "text/plain": [
       "array([-0.5945983 , -1.59203403, -0.5945983 , ..., -1.59203403,\n",
       "       -1.59203403, -0.5945983 ])"
      ]
     },
     "execution_count": 17,
     "metadata": {},
     "output_type": "execute_result"
    }
   ],
   "source": [
    "# Best Program's result on training dataset\n",
    "# 추후에 target에서 빼줘서 residual을 새로운 target으로 생성\n",
    "\n",
    "gp._program.execute(x_tr)"
   ]
  },
  {
   "cell_type": "code",
   "execution_count": 25,
   "metadata": {},
   "outputs": [
    {
     "data": {
      "text/plain": [
       "1"
      ]
     },
     "execution_count": 25,
     "metadata": {},
     "output_type": "execute_result"
    }
   ],
   "source": [
    "# Get program's depth\n",
    "\n",
    "gp._program._depth()"
   ]
  },
  {
   "cell_type": "code",
   "execution_count": 28,
   "metadata": {},
   "outputs": [
    {
     "data": {
      "text/plain": [
       "0.6124967699992059"
      ]
     },
     "execution_count": 28,
     "metadata": {},
     "output_type": "execute_result"
    }
   ],
   "source": [
    "gp._program.fitness()"
   ]
  },
  {
   "cell_type": "code",
   "execution_count": 29,
   "metadata": {},
   "outputs": [
    {
     "data": {
      "text/plain": [
       "array([-0.5945983 , -1.59203403, -0.5945983 , ..., -1.59203403,\n",
       "       -1.59203403, -0.5945983 ])"
      ]
     },
     "execution_count": 29,
     "metadata": {},
     "output_type": "execute_result"
    }
   ],
   "source": [
    "# Best program's result on training dataset\n",
    "# Above code 'gp._prgoram.execute(x_tr) 과 동일한 결과\n",
    "gp.predict(x_tr)"
   ]
  },
  {
   "cell_type": "code",
   "execution_count": 33,
   "metadata": {},
   "outputs": [
    {
     "name": "stdout",
     "output_type": "stream",
     "text": [
      "Training : 0.17025521006087074, Test : 0.0856154934767056\n"
     ]
    }
   ],
   "source": [
    "# R square 값 구하기\n",
    "# sklearn.metrics.r2_score과 동일\n",
    "tr_score = gp.score(x_tr, y_tr)\n",
    "ts_score = gp.score(x_ts, y_ts)\n",
    "print(f'Training : {tr_score}, Test : {ts_score}')\n",
    "\n",
    "from sklearn.metrics import r2_score\n",
    "\n",
    "tr_score = r2_score(y_tr, gp.predict(x_tr))\n",
    "ts_score = r2_score(y_ts, gp.predict(x_ts))\n",
    "print(f'Training : {tr_score}, Test : {ts_score}')"
   ]
  },
  {
   "cell_type": "code",
   "execution_count": 32,
   "metadata": {},
   "outputs": [
    {
     "data": {
      "text/plain": [
       "{'method': 'Crossover',\n",
       " 'parent_idx': 4581,\n",
       " 'parent_nodes': range(0, 3),\n",
       " 'donor_idx': 1148,\n",
       " 'donor_nodes': []}"
      ]
     },
     "execution_count": 32,
     "metadata": {},
     "output_type": "execute_result"
    }
   ],
   "source": [
    "# Best program 이 생성된 history\n",
    "gp._program.parents"
   ]
  }
 ],
 "metadata": {
  "interpreter": {
   "hash": "67c0ceae142a0845df9ad1b93ebe656f16c2103af5b17815984fb51155e66b4e"
  },
  "kernelspec": {
   "display_name": "Python 3.7.10 64-bit ('pytorch': conda)",
   "name": "python3"
  },
  "language_info": {
   "codemirror_mode": {
    "name": "ipython",
    "version": 3
   },
   "file_extension": ".py",
   "mimetype": "text/x-python",
   "name": "python",
   "nbconvert_exporter": "python",
   "pygments_lexer": "ipython3",
   "version": "3.7.10"
  }
 },
 "nbformat": 4,
 "nbformat_minor": 5
}
